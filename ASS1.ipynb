{
 "cells": [
  {
   "cell_type": "markdown",
   "id": "261adc98-90fc-4740-92a8-e7c9df13639e",
   "metadata": {},
   "source": [
    "Q1. Create one variable containing following type of data: (i) string (ii) list (iii) float (iv) tuple"
   ]
  },
  {
   "cell_type": "code",
   "execution_count": 1,
   "id": "ea061d80-8a0d-4d4a-a2a5-5543662c4f8e",
   "metadata": {},
   "outputs": [],
   "source": [
    "my_var1 = 'Ankit'\n",
    "my_var2 = [1,2,3,'Ankit',7,1.1]\n",
    "my_var3 = 1.234\n",
    "my_var4 = (1,2,3,'Ankit')"
   ]
  },
  {
   "cell_type": "markdown",
   "id": "a1c5ecc7-0a6f-4f31-b4e4-ede20bc5b9db",
   "metadata": {},
   "source": [
    "Q2. Given are some following variables containing data: (i) var1 = ‘ ‘ (ii) var2 = ‘[ DS , ML , Python]’ (iii) var3 = [ ‘DS’ , ’ML’ , ‘Python’ ] (iv) var4 = 1."
   ]
  },
  {
   "cell_type": "code",
   "execution_count": 2,
   "id": "e9d84e79-b81a-4ea0-b9f7-83ca8dacc17d",
   "metadata": {},
   "outputs": [],
   "source": [
    "var1 = ''\n",
    "var2 = '[ DS , ML , Python]'\n",
    "var3 = [ 'DS' , 'ML' , 'Python' ]\n",
    "var4 = 1."
   ]
  },
  {
   "cell_type": "code",
   "execution_count": 3,
   "id": "9548539f-7784-4880-a22f-8b455fec9132",
   "metadata": {},
   "outputs": [
    {
     "name": "stdout",
     "output_type": "stream",
     "text": [
      "<class 'str'>\n",
      "<class 'str'>\n",
      "<class 'list'>\n",
      "<class 'float'>\n"
     ]
    }
   ],
   "source": [
    "#What will be the data type of the above given variable.\n",
    "\n",
    "print(type(var1))\n",
    "print(type(var2))\n",
    "print(type(var3))\n",
    "print(type(var4))"
   ]
  },
  {
   "cell_type": "markdown",
   "id": "5f84076e-cafd-419f-a87d-02b1bae781df",
   "metadata": {},
   "source": [
    "Q3. Explain the use of the following operators using an example: (i) / (ii) % (iii) // (iv) **"
   ]
  },
  {
   "cell_type": "markdown",
   "id": "09505b7d-ae5a-4db6-b839-ba89f926ddf2",
   "metadata": {},
   "source": [
    "/ is used for division"
   ]
  },
  {
   "cell_type": "code",
   "execution_count": 4,
   "id": "efe66ad0-717f-4c02-91c7-d47490aefd0d",
   "metadata": {},
   "outputs": [
    {
     "data": {
      "text/plain": [
       "5.0"
      ]
     },
     "execution_count": 4,
     "metadata": {},
     "output_type": "execute_result"
    }
   ],
   "source": [
    "10 / 2"
   ]
  },
  {
   "cell_type": "markdown",
   "id": "1aee02d1-030c-4b3d-a045-bb3da99ea0df",
   "metadata": {},
   "source": [
    "% is used for getting the remainder of the division"
   ]
  },
  {
   "cell_type": "code",
   "execution_count": 5,
   "id": "37f01280-fb5f-4f26-a103-d6b66d59f5a6",
   "metadata": {},
   "outputs": [
    {
     "data": {
      "text/plain": [
       "1"
      ]
     },
     "execution_count": 5,
     "metadata": {},
     "output_type": "execute_result"
    }
   ],
   "source": [
    "5 % 2"
   ]
  },
  {
   "cell_type": "markdown",
   "id": "1df3384a-44a6-4f87-a640-97c389924362",
   "metadata": {},
   "source": [
    "// is used for floor division i.e it rounds the result down to the nearest whole number"
   ]
  },
  {
   "cell_type": "code",
   "execution_count": 6,
   "id": "bb892c2e-4e6a-4a06-9595-41de6c2ef640",
   "metadata": {},
   "outputs": [
    {
     "data": {
      "text/plain": [
       "2"
      ]
     },
     "execution_count": 6,
     "metadata": {},
     "output_type": "execute_result"
    }
   ],
   "source": [
    "5 // 2"
   ]
  },
  {
   "cell_type": "markdown",
   "id": "52e8d56c-eae6-4730-81e3-e0b0d249b29a",
   "metadata": {},
   "source": [
    "** is used for power operations"
   ]
  },
  {
   "cell_type": "code",
   "execution_count": 7,
   "id": "65d34ae7-9a60-4c34-a55c-b85009b34918",
   "metadata": {},
   "outputs": [
    {
     "data": {
      "text/plain": [
       "8"
      ]
     },
     "execution_count": 7,
     "metadata": {},
     "output_type": "execute_result"
    }
   ],
   "source": [
    "2**3   #2 to the power 3"
   ]
  },
  {
   "cell_type": "markdown",
   "id": "d2562305-dea0-43d4-b095-96f0a82fe485",
   "metadata": {},
   "source": [
    "Q4. Create a list of length 10 of your choice containing multiple types of data. Using for loop print the element and its data type."
   ]
  },
  {
   "cell_type": "code",
   "execution_count": 8,
   "id": "8dffecad-0ac7-4d4e-a9be-136b085e8fd3",
   "metadata": {},
   "outputs": [
    {
     "name": "stdout",
     "output_type": "stream",
     "text": [
      "1 <class 'int'>\n",
      "2 <class 'int'>\n",
      "3 <class 'int'>\n",
      "4 <class 'int'>\n",
      "5 <class 'int'>\n",
      "6 <class 'int'>\n",
      "Ankit <class 'str'>\n",
      "True <class 'bool'>\n",
      "1.2 <class 'float'>\n",
      "(1+3j) <class 'complex'>\n"
     ]
    }
   ],
   "source": [
    "my_list = [1,2,3,4,5,6,'Ankit', True, 1.2, 1+3j]\n",
    "for i in my_list:\n",
    "    print(i, type(i))"
   ]
  },
  {
   "cell_type": "markdown",
   "id": "a3352d97-6ed0-45cb-8e0c-656fc93dae7c",
   "metadata": {},
   "source": [
    "Q5. Using a while loop, verify if the number A is purely divisible by number B and if so then how many times it can be divisible."
   ]
  },
  {
   "cell_type": "code",
   "execution_count": 9,
   "id": "64070a1b-215e-4ff3-8f49-ea8c711b1366",
   "metadata": {},
   "outputs": [
    {
     "name": "stdin",
     "output_type": "stream",
     "text": [
      " 30\n"
     ]
    }
   ],
   "source": [
    "a = int(input())"
   ]
  },
  {
   "cell_type": "code",
   "execution_count": 10,
   "id": "a1172509-45ae-4b13-9b83-48b18d3fd0e0",
   "metadata": {},
   "outputs": [
    {
     "name": "stdin",
     "output_type": "stream",
     "text": [
      " 5\n"
     ]
    }
   ],
   "source": [
    "b = int(input())"
   ]
  },
  {
   "cell_type": "code",
   "execution_count": 11,
   "id": "18754a6d-f30f-4efa-8b29-a5fe8c02ee7f",
   "metadata": {},
   "outputs": [
    {
     "name": "stdout",
     "output_type": "stream",
     "text": [
      "The number is divisible\n",
      "The number is divisible\n"
     ]
    }
   ],
   "source": [
    "n = 2\n",
    "i = 1\n",
    "\n",
    "while i <= n:\n",
    "    c = a%b\n",
    "    if c == 0 :\n",
    "        print('The number is divisible')\n",
    "    else:\n",
    "        print('The number is not divisible')\n",
    "    i += 1"
   ]
  },
  {
   "cell_type": "markdown",
   "id": "375aa6d2-4cca-458f-bc4d-35334a37df77",
   "metadata": {},
   "source": [
    "Q6. Create a list containing 25 int type data. Using for loop and if-else condition print if the element is\n",
    "divisible by 3 or not."
   ]
  },
  {
   "cell_type": "code",
   "execution_count": 17,
   "id": "80cec32d-fc5d-4264-bba0-68d55688c5a4",
   "metadata": {},
   "outputs": [],
   "source": [
    "list1 = [1,2,3,4,5,6,7,8,9,10,11,12,13,14,15,20,23,24,25,100,28,47,75,81,46]"
   ]
  },
  {
   "cell_type": "code",
   "execution_count": 22,
   "id": "c1f48d45-79e8-460b-b1d1-c141359ec887",
   "metadata": {},
   "outputs": [
    {
     "name": "stdout",
     "output_type": "stream",
     "text": [
      "1 The number is not divisible by 3\n",
      "2 The number is not divisible by 3\n",
      "3 The number is divisibile by 3\n",
      "4 The number is not divisible by 3\n",
      "5 The number is not divisible by 3\n",
      "6 The number is divisibile by 3\n",
      "7 The number is not divisible by 3\n",
      "8 The number is not divisible by 3\n",
      "9 The number is divisibile by 3\n",
      "10 The number is not divisible by 3\n",
      "11 The number is not divisible by 3\n",
      "12 The number is divisibile by 3\n",
      "13 The number is not divisible by 3\n",
      "14 The number is not divisible by 3\n",
      "15 The number is divisibile by 3\n",
      "20 The number is not divisible by 3\n",
      "23 The number is not divisible by 3\n",
      "24 The number is divisibile by 3\n",
      "25 The number is not divisible by 3\n",
      "100 The number is not divisible by 3\n",
      "28 The number is not divisible by 3\n",
      "47 The number is not divisible by 3\n",
      "75 The number is divisibile by 3\n",
      "81 The number is divisibile by 3\n",
      "46 The number is not divisible by 3\n"
     ]
    }
   ],
   "source": [
    "for i in list1:\n",
    "    divby3 = i%3\n",
    "    if divby3 == 0:\n",
    "        print(i,'The number is divisibile by 3')\n",
    "    else:\n",
    "        print(i,'The number is not divisible by 3')"
   ]
  },
  {
   "cell_type": "markdown",
   "id": "5633bc04-0cf9-4091-9165-d6a38a0cd51b",
   "metadata": {},
   "source": [
    "Q7. What do you understand about mutable and immutable data types? Give examples for both showing\n",
    "this property."
   ]
  },
  {
   "cell_type": "markdown",
   "id": "2dcc2c15-52a8-4a6b-b675-23284d5368a6",
   "metadata": {},
   "source": [
    "An object that allows you to change its values without changing its identity is a mutable object, eg:- "
   ]
  },
  {
   "cell_type": "code",
   "execution_count": 23,
   "id": "fae109cb-831e-4fee-8b4b-1096d08aadee",
   "metadata": {},
   "outputs": [],
   "source": [
    "list2 = [1,2,3,4,5]"
   ]
  },
  {
   "cell_type": "code",
   "execution_count": 26,
   "id": "04c75e22-bc04-4de9-8801-2c3812e4734d",
   "metadata": {},
   "outputs": [],
   "source": [
    "list2[1] = 20        # changing the number which is in the 1st index of list2 i.e the number 2 and assignning value of 20"
   ]
  },
  {
   "cell_type": "code",
   "execution_count": 27,
   "id": "b27f9d39-c3f9-404b-ac74-374468e1ad4e",
   "metadata": {},
   "outputs": [
    {
     "data": {
      "text/plain": [
       "[1, 20, 3, 4, 5]"
      ]
     },
     "execution_count": 27,
     "metadata": {},
     "output_type": "execute_result"
    }
   ],
   "source": [
    "list2"
   ]
  },
  {
   "cell_type": "code",
   "execution_count": null,
   "id": "6861d314-7a4e-413f-85d9-018b447aa9d7",
   "metadata": {},
   "outputs": [],
   "source": []
  },
  {
   "cell_type": "code",
   "execution_count": null,
   "id": "287b1033-5ca8-49d7-8129-7f5bff3a203f",
   "metadata": {},
   "outputs": [],
   "source": []
  }
 ],
 "metadata": {
  "kernelspec": {
   "display_name": "Python 3 (ipykernel)",
   "language": "python",
   "name": "python3"
  },
  "language_info": {
   "codemirror_mode": {
    "name": "ipython",
    "version": 3
   },
   "file_extension": ".py",
   "mimetype": "text/x-python",
   "name": "python",
   "nbconvert_exporter": "python",
   "pygments_lexer": "ipython3",
   "version": "3.10.8"
  }
 },
 "nbformat": 4,
 "nbformat_minor": 5
}
